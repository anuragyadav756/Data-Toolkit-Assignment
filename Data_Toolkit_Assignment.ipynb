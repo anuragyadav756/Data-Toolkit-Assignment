{
  "nbformat": 4,
  "nbformat_minor": 0,
  "metadata": {
    "colab": {
      "provenance": []
    },
    "kernelspec": {
      "name": "python3",
      "display_name": "Python 3"
    },
    "language_info": {
      "name": "python"
    }
  },
  "cells": [
    {
      "cell_type": "markdown",
      "source": [
        "#Data Toolkit Assignment"
      ],
      "metadata": {
        "id": "poIz9kmG-M_h"
      }
    },
    {
      "cell_type": "markdown",
      "source": [
        "##Theory Questions"
      ],
      "metadata": {
        "id": "vpNaOD7_-NFx"
      }
    },
    {
      "cell_type": "markdown",
      "source": [
        "###1. What is NumPy, and why is it widely used in Python ?\n",
        "\n",
        "- `NumPy` is a fundamental Python library for numerical computing, providing support for multidimensional arrays and a wide range of mathematical functions. It's used extensively in scientific computing, data analysis, and machine learning because it offers efficient and optimized array operations, which are often required in these fields."
      ],
      "metadata": {
        "id": "A9cVWapN-NHT"
      }
    },
    {
      "cell_type": "markdown",
      "source": [
        "###2. How does broadcasting work in NumPy ?\n",
        "\n",
        "- `Broadcasting in NumPy` is a powerful mechanism that allows NumPy to perform element-wise operations on arrays of different shapes without explicitly replicating data. It’s a way of extending smaller arrays so they \"match\" the shape of larger arrays during operations like addition, multiplication, etc.\n",
        "\n",
        "- Basic Rules of Broadcasting\n",
        "When NumPy operates on two arrays, it compares their shapes element-wise, starting from the trailing dimensions. The dimensions are compatible when:\n",
        "\n",
        "  - They are equal, or\n",
        "\n",
        "  - One of them is 1\n",
        "\n",
        "- If the shapes are not compatible, NumPy throws a ValueError."
      ],
      "metadata": {
        "id": "V8dMT_pG-NOj"
      }
    },
    {
      "cell_type": "markdown",
      "source": [
        "###3. What is a Pandas DataFrame ?\n",
        "\n",
        "- `Pandas DataFrame` is a way to represent and work with tabular data. It can be seen as a table that organizes data into rows and columns, making it a two-dimensional data structure. A DataFrame can be created from scratch, or you can use other data structures, like NumPy arrays."
      ],
      "metadata": {
        "id": "UyeMV7_7-NP_"
      }
    },
    {
      "cell_type": "markdown",
      "source": [
        "###4. Explain the use of the groupby() method in Pandas.\n",
        "\n",
        "- The `groupby()` method in Pandas is used to split your data into groups based on one or more keys (like columns), then apply some operation to each group, and finally combine the results back into a DataFrame or Series.\n",
        "\n",
        "- This is often referred to as the \"split-apply-combine\" strategy.\n",
        "\n",
        "- Uses of groupby()\n",
        "  - Aggregation\n",
        "  - Filtering\n",
        "  - Transformation\n",
        "  - Iteration"
      ],
      "metadata": {
        "id": "aAXw4-Sk-NXm"
      }
    },
    {
      "cell_type": "markdown",
      "source": [
        "###5.  Why is Seaborn preferred for statistical visualizations ?\n",
        "\n",
        "- `Seaborn` is often preferred for statistical visualizations because it’s designed to make beautiful, informative, and statistically meaningful plots with minimal code. It's built on top of Matplotlib, but adds high-level abstraction and built-in support for complex visualizations.\n",
        "\n"
      ],
      "metadata": {
        "id": "YyMQ6vQd-NY_"
      }
    },
    {
      "cell_type": "markdown",
      "source": [
        "###6. What are the differences between NumPy arrays and Python lists ?\n",
        "\n",
        "- Comparison between `Numpy array` and `Python List` :-\n",
        "\n",
        "-  1. Data Type Consistency\n",
        "  - NumPy Arrays: Elements must be of the same data type (e.g., all floats or all ints). This allows for fast computation.\n",
        "\n",
        "  - Python Lists: Can hold mixed types (e.g., [1, 'a', True] is valid).\n",
        "\n",
        "- 2. Performance (Speed)\n",
        "  - NumPy arrays are much faster than lists for numerical operations because they're implemented in C and use contiguous memory blocks.\n",
        "\n",
        "  - Lists are slower due to Python’s dynamic typing and object overhead.\n",
        "-  3. Functionality\n",
        "  - NumPy arrays support powerful vectorized operations, broadcasting, and a massive ecosystem of functions (e.g., linear algebra, stats).\n",
        "\n",
        "  - Lists don’t support element-wise math; you’d need a loop or list comprehension.\n",
        "-  4. Memory Efficiency\n",
        "  - NumPy arrays use less memory and are more efficient.\n",
        "\n",
        "  - Lists have extra overhead per element because each is a separate Python object."
      ],
      "metadata": {
        "id": "D9mC2ty1-Nf3"
      }
    },
    {
      "cell_type": "markdown",
      "source": [
        "###7. What is a heatmap, and when should it be used ?\n",
        "\n",
        "- A `heatmap` is a data visualization technique that uses color to represent values across two variables, effectively translating complex data into a visual summary. It's commonly used to show patterns and relationships within large datasets, like website user behavior or product performance, making it easier to identify trends and areas needing improvement.\n",
        "\n",
        "- When to `use` a heatmap :\n",
        "  - Web Analytics\n",
        "  - Data Analysis\n",
        "  - Bussiness Strategy\n",
        "  - Manufacturing\n",
        "  - Scientific Visualization\n"
      ],
      "metadata": {
        "id": "EG61xRuP-NsB"
      }
    },
    {
      "cell_type": "markdown",
      "source": [
        "###8. What does the term “vectorized operation” mean in NumPy ?\n",
        "\n",
        "- A `vectorized operation` in NumPy means applying a function or operation directly to entire arrays, element-wise, without writing explicit loops in Python. Instead of looping through each element manually, NumPy runs the operation underneath in fast, compiled code (usually in C).\n",
        "\n"
      ],
      "metadata": {
        "id": "RSc67-Bl-Nw-"
      }
    },
    {
      "cell_type": "markdown",
      "source": [
        "###9. How does Matplotlib differ from Plotly ?\n",
        "\n",
        "- Matplotlib is often preferred for academic or highly customized plots because you can fine-tune just about any aspect of the figure—fonts, margins, axis scales, etc. Plotly: While still highly customizable, Plotly's real strength lies in interactivity and web-based visuals."
      ],
      "metadata": {
        "id": "_Z_MIdON-N2x"
      }
    },
    {
      "cell_type": "markdown",
      "source": [
        "###10. What is the significance of hierarchical indexing in Pandas ?\n",
        "\n",
        "- Hierarchical Indexing, also known as MultiIndexing, is a powerful feature in Pandas that allows you to have multiple levels of indexing on an axis (row or column). This capability is particularly useful when dealing with high-dimensional data."
      ],
      "metadata": {
        "id": "vAoRoZnq-N9w"
      }
    },
    {
      "cell_type": "markdown",
      "source": [
        "###11. What is the role of Seaborn’s pairplot() function ?\n",
        "\n",
        "- `Seaborn's pairplot()` function in Python creates a grid of pairwise relationships (scatter plots and histograms) between variables in a dataset. It's a quick and useful tool for exploratory data analysis, especially when you want to visualize relationships between multiple features in your dataset. The diagonal plots show the distribution of individual variables."
      ],
      "metadata": {
        "id": "nUwYEC3S-N_Q"
      }
    },
    {
      "cell_type": "markdown",
      "source": [
        "###12. What is the purpose of the describe() function in Pandas ?\n",
        "\n",
        "- The `describe()` function in Pandas is used to generate descriptive statistics of a DataFrame's columns. It provides a quick summary of key statistical metrics like mean, standard deviation, percentiles, and more for numeric data. For non-numeric data, it offers statistics like count, unique, top, and frequency."
      ],
      "metadata": {
        "id": "hpJQ8p-h-OIB"
      }
    },
    {
      "cell_type": "markdown",
      "source": [
        "###13. Why is handling missing data important in Pandas ?\n",
        "\n",
        "- `Handling missing data` in Pandas is crucial because missing values (often represented as NaN) can severely impact data analysis and modeling. They can lead to incorrect results, biased models, and inaccurate conclusions. Pandas provides various tools to identify, address, and manage missing data, ensuring the integrity and reliability of your analysis."
      ],
      "metadata": {
        "id": "ay93TrFD-OJj"
      }
    },
    {
      "cell_type": "markdown",
      "source": [
        "###14. What are the benefits of using Plotly for data visualization ?\n",
        "\n",
        "-  `Plotly` allows you to display data in a way that's easy to explore and understand, such as by zooming in, hovering over data points for more details, and clicking to get deeper insights Plotly uses JavaScript to handle interactivity, but you don't need to worry about that when using it in Python."
      ],
      "metadata": {
        "id": "9tG41Q4T-OQu"
      }
    },
    {
      "cell_type": "markdown",
      "source": [
        "###15. How does NumPy handle multidimensional arrays ?\n",
        "\n",
        "- NumPy handles multidimensional arrays using the `ndarray` object — where \"n\" stands for any number of dimensions (1D, 2D, 3D, ...). These arrays are often referred to as tensors, especially in machine learning contexts.\n",
        "- It offers fast, flexible indexing, reshaping, and operations across dimensions — all optimized under the hood."
      ],
      "metadata": {
        "id": "rlDg0dI2-OWL"
      }
    },
    {
      "cell_type": "markdown",
      "source": [
        "###16. What is the role of Bokeh in data visualization ?\n",
        "\n",
        "- `Bokeh` is a Python library primarily used for creating interactive and visually appealing data visualizations for modern web browsers. It allows users to build a wide variety of plots and charts, from simple to complex, and can be used to create standalone documents or server-backed applications. Unlike some other Python visualization libraries, Bokeh uses HTML and JavaScript to render its plots, which enables interactive features like zooming, panning, and tooltips.\n"
      ],
      "metadata": {
        "id": "_UUiW9ps-OcO"
      }
    },
    {
      "cell_type": "markdown",
      "source": [
        "###17. Explain the difference between apply() and map() in Pandas.\n",
        "\n",
        "- `apply()` and `map()` in Pandas are both used to apply functions to data, but they work a bit differently and are used in different contexts.\n",
        "- `map()` is used only on a Pandas Series (a single column). It applies a function to each element individually.\n",
        "- You can also use map() to:\n",
        "\n",
        "  - Replace values with a dict\n",
        "\n",
        "  - Apply functions to strings\n",
        "\n",
        "  - Clean up or reformat data\n",
        "\n",
        "- `apply()` is more flexible and powerful\n",
        "- apply() works on:\n",
        "\n",
        "  - Series (like map, but more powerful)\n",
        "\n",
        "  - DataFrames (apply across rows or columns)"
      ],
      "metadata": {
        "id": "7M4WTmJM-OiM"
      }
    },
    {
      "cell_type": "markdown",
      "source": [
        "###18.  What are some advanced features of NumPy ?\n",
        "\n",
        "- `NumPy` is not just about arrays and basic math — it also has advanced features that make it a powerhouse for scientific computing, data analysis, and machine learning.\n",
        "- Some `advanced features` of NumPy are as follows :\n",
        "  - Broadcasting\n",
        "  - Vectorization\n",
        "  - Linear Algebra Module\n",
        "  - Structured Arrays/Record Arrays\n",
        "  - Fancy Indexing and Boolean Masking"
      ],
      "metadata": {
        "id": "ghU1AD_p-On7"
      }
    },
    {
      "cell_type": "markdown",
      "source": [
        "###19. How does Pandas simplify time series analysis ?\n",
        "\n",
        "- `Pandas` makes time series analysis super intuitive and powerful by providing a suite of tools specifically designed for working with date and time data — whether you're dealing with stock prices, IoT sensor data, web traffic, or any time-indexed dataset.\n",
        "\n",
        "- Here's how Pandas simplifies time series analysis:\n",
        "  - Datetime Indixing\n",
        "  - Powerful Date Parsing\n",
        "  - Date Range Generation\n",
        "  - Resampling and Frequency Conversion\n",
        "  - Shifting and Lagging Data"
      ],
      "metadata": {
        "id": "Qf5-Qc4F-Ouh"
      }
    },
    {
      "cell_type": "markdown",
      "source": [
        "###20. What is the role of a pivot table in Pandas ?\n",
        "\n",
        "- `Pivot Table` allows you to restructure a DataFrame by turning rows into columns and columns into rows based on a specified index column, a specified columns column, and a specified values column. This creates a summary table of the data that is easy to read and analyze."
      ],
      "metadata": {
        "id": "yHDrjK0q-O0L"
      }
    },
    {
      "cell_type": "markdown",
      "source": [
        "###21. Why is NumPy’s array slicing faster than Python’s list slicing ?\n",
        "\n",
        "- The `NumPy's slicing` is Faster than `Python's list slicing` because:-\n",
        "  - Contiguous memory: NumPy arrays are stored in one block, allowing fast access.\n",
        "\n",
        "  - No copying: NumPy slicing creates a view (not a copy), making it efficient.\n",
        "\n",
        "  - Optimized operations: NumPy can perform complex operations on slices using low-level optimizations, making slicing faster.\n",
        "\n",
        "  - Homogeneous data: NumPy arrays only store one type of data, so there’s less overhead in managing slices."
      ],
      "metadata": {
        "id": "k1C1yLCbIJC_"
      }
    },
    {
      "cell_type": "markdown",
      "source": [
        "###22. What are some common use cases for Seaborn ?\n",
        "\n",
        "- `Seaborn` is commonly used for visualizing data distributions, relationships between variables, and statistical insights in various fields like data science, machine learning, and exploratory data analysis. Its strength lies in creating aesthetically pleasing and informative plots that are easy to understand and can be used for publication or presentations."
      ],
      "metadata": {
        "id": "LaMFr39aIJE6"
      }
    },
    {
      "cell_type": "markdown",
      "source": [
        "##Practical Questions"
      ],
      "metadata": {
        "id": "5ExBTTpRXDMT"
      }
    },
    {
      "cell_type": "code",
      "source": [
        "#1. How do you create a 2D NumPy array and calculate the sum of each row ?\n",
        "\n",
        "\n",
        "#To create a 2D NumPy array and calculate the sum of each row, you can follow these steps:​\n",
        "\n",
        "#1. Create a 2D NumPy Array\n",
        "\n",
        "#First, import the NumPy library and create a 2D array using np.array() or np.random.randint() for random integers.\n",
        "\n",
        "import numpy as np\n",
        "\n",
        "# Define a 2D array\n",
        "arr = np.array([[1, 2, 3],\n",
        "                [4, 5, 6],\n",
        "                [7, 8, 9]])\n",
        "\n",
        "# Or create a 3x3 array with random integers between 0 and 10\n",
        "arr_random = np.random.randint(0, 10, size=(3, 3))\n",
        "\n",
        "print(arr)\n",
        "print(arr_random)\n",
        "\n",
        "\n",
        "#2. Calculate the Sum of Each Row\n",
        "#Use the np.sum() function with the axis=1 parameter to sum along each row:\n",
        "\n",
        "# Sum of each row\n",
        "row_sums = arr.sum(axis=1)\n",
        "\n",
        "print(\"Sum of each row:\", row_sums)\n"
      ],
      "metadata": {
        "id": "R8FgJwTmXB8R"
      },
      "execution_count": null,
      "outputs": []
    },
    {
      "cell_type": "code",
      "source": [
        "#2. Write a Pandas script to find the mean of a specific column in a DataFrame.\n",
        "\n",
        "import pandas as pd\n",
        "\n",
        "# Sample DataFrame\n",
        "data = {\n",
        "    'Name': ['Alice', 'Bob', 'Charlie', 'David'],\n",
        "    'Age': [25, 30, 35, 40],\n",
        "    'Salary': [50000, 60000, 70000, 80000]\n",
        "}\n",
        "\n",
        "df = pd.DataFrame(data)\n",
        "\n",
        "# Calculate the mean of the 'Age' column\n",
        "mean_age = df['Age'].mean()\n",
        "\n",
        "print(\"Mean Age:\", mean_age)\n"
      ],
      "metadata": {
        "id": "w6V_eqkwXB67"
      },
      "execution_count": null,
      "outputs": []
    },
    {
      "cell_type": "code",
      "source": [
        "#3. Create a scatter plot using Matplotlib.\n",
        "\n",
        "import matplotlib.pyplot as plt\n",
        "import numpy as np\n",
        "\n",
        "x = np.array([1, 5, 2, 8, 4, 7, 3, 9, 6, 10])\n",
        "y = np.array([3, 7, 1, 9, 5, 8, 2, 10, 6, 4])\n",
        "colors = np.random.rand(10)  # Random colors for each point\n",
        "sizes = 100 * np.random.rand(10)  # Random sizes for each point\n",
        "\n",
        "# Create the scatter plot\n",
        "plt.scatter(x, y, c=colors, s=sizes, alpha=0.7, cmap='viridis')\n",
        "\n",
        "# Add labels and title\n",
        "plt.xlabel(\"X-axis Label\")\n",
        "plt.ylabel(\"Y-axis Label\")\n",
        "plt.title(\"Simple Scatter Plot\")\n",
        "\n",
        "# Add a colorbar (optional, but useful if you're mapping data to colors)\n",
        "plt.colorbar(label='Color Intensity')\n",
        "\n",
        "# Add a grid (optional)\n",
        "plt.grid(True)\n",
        "\n",
        "# Show the plot\n",
        "plt.show()\n"
      ],
      "metadata": {
        "id": "2BqvxeAUXBjI"
      },
      "execution_count": null,
      "outputs": []
    },
    {
      "cell_type": "code",
      "source": [
        "#4. How do you calculate the correlation matrix using Seaborn and visualize it with a heatmap ?\n",
        "\n",
        "import seaborn as sns\n",
        "import matplotlib.pyplot as plt\n",
        "import pandas as pd\n",
        "\n",
        "# Sample DataFrame (replace with your actual data)\n",
        "data = {'A': [1, 2, 3, 4, 5],\n",
        "        'B': [5, 4, 3, 2, 1],\n",
        "        'C': [1, 3, 5, 2, 4],\n",
        "        'D': [2, 2, 4, 4, 1]}\n",
        "df = pd.DataFrame(data)\n",
        "\n",
        "# 1. Calculate the Correlation Matrix\n",
        "correlation_matrix = df.corr()\n",
        "\n",
        "# 2. Visualize the Correlation Matrix with a Heatmap\n",
        "plt.figure(figsize=(8, 6))  # Adjust figure size as needed\n",
        "sns.heatmap(correlation_matrix, annot=True, cmap='coolwarm', fmt=\".2f\", linewidths=.5)\n",
        "plt.title('Correlation Matrix')\n",
        "plt.show()\n"
      ],
      "metadata": {
        "id": "ZJC8JHoAXBhq"
      },
      "execution_count": null,
      "outputs": []
    },
    {
      "cell_type": "code",
      "source": [
        "#5. Generate a bar plot using Plotly.\n",
        "\n",
        "import plotly.express as px\n",
        "\n",
        "# Load the gapminder dataset and filter for Canada\n",
        "df = px.data.gapminder().query(\"country == 'Canada'\")\n",
        "\n",
        "# Create a bar plot showing population over the years\n",
        "fig = px.bar(df, x='year', y='pop', title='Population of Canada Over Time')\n",
        "\n",
        "# Display the plot\n",
        "fig.show()\n"
      ],
      "metadata": {
        "id": "G1uHWSF3XBbD"
      },
      "execution_count": null,
      "outputs": []
    },
    {
      "cell_type": "code",
      "source": [
        "#6. Create a DataFrame and add a new column based on an existing column.\n",
        "\n",
        "import pandas as pd\n",
        "\n",
        "# Create a DataFrame\n",
        "data = {'Name': ['Alice', 'Bob', 'Charlie'],\n",
        "        'Age': [25, 30, 35]}\n",
        "df = pd.DataFrame(data)\n",
        "\n",
        "# Add a new column 'Age_in_5_Years' by adding 5 to the 'Age' column\n",
        "df['Age_in_5_Years'] = df['Age'] + 5\n",
        "\n",
        "print(df)\n"
      ],
      "metadata": {
        "id": "mFVHEhceXBZo"
      },
      "execution_count": null,
      "outputs": []
    },
    {
      "cell_type": "code",
      "source": [
        "#7. Write a program to perform element-wise multiplication of two NumPy array.\n",
        "\n",
        "import numpy as np\n",
        "\n",
        "# Create two 1D NumPy arrays\n",
        "a = np.array([1, 2, 3])\n",
        "b = np.array([4, 5, 6])\n",
        "\n",
        "# Perform element-wise multiplication using np.multiply()\n",
        "result = np.multiply(a, b)\n",
        "\n",
        "# Alternatively, using the * operator\n",
        "result_alt = a * b\n",
        "\n",
        "# Print the results\n",
        "print(\"Using np.multiply():\", result)\n",
        "print(\"Using * operator:\", result_alt)\n"
      ],
      "metadata": {
        "id": "pRVNvsywXBTg"
      },
      "execution_count": null,
      "outputs": []
    },
    {
      "cell_type": "code",
      "source": [
        "#8. Create a line plot with multiple lines using Matplotlib.\n",
        "\n",
        "import matplotlib.pyplot as plt\n",
        "import numpy as np\n",
        "\n",
        "# Generate some sample data\n",
        "x = np.linspace(0, 10, 100)  # 100 points from 0 to 10\n",
        "y1 = np.sin(x)\n",
        "y2 = np.cos(x)\n",
        "y3 = np.tan(x)\n",
        "\n",
        "# Create the line plot\n",
        "plt.plot(x, y1, label='sin(x)')\n",
        "plt.plot(x, y2, label='cos(x)')\n",
        "plt.plot(x, y3, label='tan(x)')\n",
        "\n",
        "# Add labels and title\n",
        "plt.xlabel('X-axis')\n",
        "plt.ylabel('Y-axis')\n",
        "plt.title('Multiple Line Plot')\n",
        "\n",
        "# Add a legend\n",
        "plt.legend()\n",
        "\n",
        "# Show the plot\n",
        "plt.show()\n"
      ],
      "metadata": {
        "id": "LKyjLFvCXBSE"
      },
      "execution_count": null,
      "outputs": []
    },
    {
      "cell_type": "code",
      "source": [
        "#9. Generate a Pandas DataFrame and filter rows where a column value is greater than a threshold.\n",
        "\n",
        "import pandas as pd\n",
        "\n",
        "# Create a DataFrame\n",
        "data = {'Name': ['Alice', 'Bob', 'Charlie', 'David'],\n",
        "        'Age': [25, 30, 35, 40]}\n",
        "        df = pd.DataFrame(data)\n",
        "\n",
        "# Define the threshold\n",
        "threshold = 30\n",
        "\n",
        "# Filter rows where 'Age' is greater than the threshold\n",
        "filtered_df = df[df['Age'] > threshold]\n",
        "\n",
        "print(filtered_df)\n"
      ],
      "metadata": {
        "id": "oaK7bC1NXBN-"
      },
      "execution_count": null,
      "outputs": []
    },
    {
      "cell_type": "code",
      "source": [
        "#10. Create a histogram using Seaborn to visualize a distribution.\n",
        "\n",
        "import seaborn as sns\n",
        "import matplotlib.pyplot as plt\n",
        "import numpy as np\n",
        "\n",
        "# Generate random data\n",
        "data = np.random.normal(loc=0, scale=1, size=1000)\n",
        "\n",
        "# Create the histogram\n",
        "sns.histplot(data, bins=30, kde=True, color='skyblue')\n",
        "\n",
        "# Add titles and labels\n",
        "plt.title('Histogram with KDE', fontsize=16)\n",
        "plt.xlabel('Value', fontsize=12)\n",
        "plt.ylabel('Frequency', fontsize=12)\n",
        "\n",
        "# Display the plot\n",
        "plt.show()\n"
      ],
      "metadata": {
        "id": "ZVdCDrTZXBKa"
      },
      "execution_count": null,
      "outputs": []
    },
    {
      "cell_type": "code",
      "source": [
        "#11.Perform matrix multiplication using NumPy.\n",
        "\n",
        "import numpy as np\n",
        "\n",
        "# Define two matrices\n",
        "A = np.array([[1, 2], [3, 4]])\n",
        "B = np.array([[5, 6], [7, 8]])\n",
        "\n",
        "# Perform matrix multiplication\n",
        "result = np.matmul(A, B)\n",
        "\n",
        "# Alternatively, using the @ operator\n",
        "result_alt = A @ B\n",
        "\n",
        "print(\"Result using np.matmul():\\n\", result)\n",
        "print(\"Result using @ operator:\\n\", result_alt)\n"
      ],
      "metadata": {
        "id": "_DfbC295a662"
      },
      "execution_count": null,
      "outputs": []
    },
    {
      "cell_type": "code",
      "source": [
        "#12. Use Pandas to load a CSV file and display its first 5 rows.\n",
        "\n",
        "import pandas as pd\n",
        "\n",
        "# Load the CSV file into a DataFrame\n",
        "df = pd.read_csv('your_file.csv')\n",
        "\n",
        "# Display the first 5 rows\n",
        "print(df.head())\n"
      ],
      "metadata": {
        "id": "f0jHZJsRa68q"
      },
      "execution_count": null,
      "outputs": []
    },
    {
      "cell_type": "code",
      "source": [
        "#13. Create a 3D scatter plot using Plotly.\n",
        "\n",
        "import plotly.express as px\n",
        "import pandas as pd\n",
        "import numpy as np\n",
        "\n",
        "# Generate sample data\n",
        "np.random.seed(42)\n",
        "num_points = 100\n",
        "x = np.random.rand(num_points)\n",
        "y = np.random.rand(num_points)\n",
        "z = np.random.rand(num_points)\n",
        "color = np.random.rand(num_points)\n",
        "size = np.random.rand(num_points) * 10\n",
        "\n",
        "# Create a DataFrame\n",
        "df = pd.DataFrame({'X': x, 'Y': y, 'Z': z, 'Color': color, 'Size': size})\n",
        "\n",
        "# Create a 3D scatter plot\n",
        "fig = px.scatter_3d(df, x='X', y='Y', z='Z', color='Color', size='Size', title='3D Scatter Plot using Plotly')\n",
        "\n",
        "# Display the plot\n",
        "fig.show()\n"
      ],
      "metadata": {
        "id": "2foblwQxa7CD"
      },
      "execution_count": null,
      "outputs": []
    }
  ]
}